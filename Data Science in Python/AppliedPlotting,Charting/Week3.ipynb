{
 "cells": [
  {
   "cell_type": "markdown",
   "metadata": {},
   "source": [
    "# Subplots"
   ]
  },
  {
   "cell_type": "code",
   "execution_count": 1,
   "metadata": {
    "collapsed": true
   },
   "outputs": [],
   "source": [
    "%matplotlib notebook\n",
    "\n",
    "import matplotlib.pyplot as plt\n",
    "import numpy as np\n",
    "\n",
    "plt.subplot?"
   ]
  },
  {
   "cell_type": "code",
   "execution_count": 4,
   "metadata": {
    "collapsed": false
   },
   "outputs": [
    {
     "data": {
      "application/javascript": [
       "/* Put everything inside the global mpl namespace */\n",
       "window.mpl = {};\n",
       "\n",
       "\n",
       "mpl.get_websocket_type = function() {\n",
       "    if (typeof(WebSocket) !== 'undefined') {\n",
       "        return WebSocket;\n",
       "    } else if (typeof(MozWebSocket) !== 'undefined') {\n",
       "        return MozWebSocket;\n",
       "    } else {\n",
       "        alert('Your browser does not have WebSocket support.' +\n",
       "              'Please try Chrome, Safari or Firefox ≥ 6. ' +\n",
       "              'Firefox 4 and 5 are also supported but you ' +\n",
       "              'have to enable WebSockets in about:config.');\n",
       "    };\n",
       "}\n",
       "\n",
       "mpl.figure = function(figure_id, websocket, ondownload, parent_element) {\n",
       "    this.id = figure_id;\n",
       "\n",
       "    this.ws = websocket;\n",
       "\n",
       "    this.supports_binary = (this.ws.binaryType != undefined);\n",
       "\n",
       "    if (!this.supports_binary) {\n",
       "        var warnings = document.getElementById(\"mpl-warnings\");\n",
       "        if (warnings) {\n",
       "            warnings.style.display = 'block';\n",
       "            warnings.textContent = (\n",
       "                \"This browser does not support binary websocket messages. \" +\n",
       "                    \"Performance may be slow.\");\n",
       "        }\n",
       "    }\n",
       "\n",
       "    this.imageObj = new Image();\n",
       "\n",
       "    this.context = undefined;\n",
       "    this.message = undefined;\n",
       "    this.canvas = undefined;\n",
       "    this.rubberband_canvas = undefined;\n",
       "    this.rubberband_context = undefined;\n",
       "    this.format_dropdown = undefined;\n",
       "\n",
       "    this.image_mode = 'full';\n",
       "\n",
       "    this.root = $('<div/>');\n",
       "    this._root_extra_style(this.root)\n",
       "    this.root.attr('style', 'display: inline-block');\n",
       "\n",
       "    $(parent_element).append(this.root);\n",
       "\n",
       "    this._init_header(this);\n",
       "    this._init_canvas(this);\n",
       "    this._init_toolbar(this);\n",
       "\n",
       "    var fig = this;\n",
       "\n",
       "    this.waiting = false;\n",
       "\n",
       "    this.ws.onopen =  function () {\n",
       "            fig.send_message(\"supports_binary\", {value: fig.supports_binary});\n",
       "            fig.send_message(\"send_image_mode\", {});\n",
       "            if (mpl.ratio != 1) {\n",
       "                fig.send_message(\"set_dpi_ratio\", {'dpi_ratio': mpl.ratio});\n",
       "            }\n",
       "            fig.send_message(\"refresh\", {});\n",
       "        }\n",
       "\n",
       "    this.imageObj.onload = function() {\n",
       "            if (fig.image_mode == 'full') {\n",
       "                // Full images could contain transparency (where diff images\n",
       "                // almost always do), so we need to clear the canvas so that\n",
       "                // there is no ghosting.\n",
       "                fig.context.clearRect(0, 0, fig.canvas.width, fig.canvas.height);\n",
       "            }\n",
       "            fig.context.drawImage(fig.imageObj, 0, 0);\n",
       "        };\n",
       "\n",
       "    this.imageObj.onunload = function() {\n",
       "        this.ws.close();\n",
       "    }\n",
       "\n",
       "    this.ws.onmessage = this._make_on_message_function(this);\n",
       "\n",
       "    this.ondownload = ondownload;\n",
       "}\n",
       "\n",
       "mpl.figure.prototype._init_header = function() {\n",
       "    var titlebar = $(\n",
       "        '<div class=\"ui-dialog-titlebar ui-widget-header ui-corner-all ' +\n",
       "        'ui-helper-clearfix\"/>');\n",
       "    var titletext = $(\n",
       "        '<div class=\"ui-dialog-title\" style=\"width: 100%; ' +\n",
       "        'text-align: center; padding: 3px;\"/>');\n",
       "    titlebar.append(titletext)\n",
       "    this.root.append(titlebar);\n",
       "    this.header = titletext[0];\n",
       "}\n",
       "\n",
       "\n",
       "\n",
       "mpl.figure.prototype._canvas_extra_style = function(canvas_div) {\n",
       "\n",
       "}\n",
       "\n",
       "\n",
       "mpl.figure.prototype._root_extra_style = function(canvas_div) {\n",
       "\n",
       "}\n",
       "\n",
       "mpl.figure.prototype._init_canvas = function() {\n",
       "    var fig = this;\n",
       "\n",
       "    var canvas_div = $('<div/>');\n",
       "\n",
       "    canvas_div.attr('style', 'position: relative; clear: both; outline: 0');\n",
       "\n",
       "    function canvas_keyboard_event(event) {\n",
       "        return fig.key_event(event, event['data']);\n",
       "    }\n",
       "\n",
       "    canvas_div.keydown('key_press', canvas_keyboard_event);\n",
       "    canvas_div.keyup('key_release', canvas_keyboard_event);\n",
       "    this.canvas_div = canvas_div\n",
       "    this._canvas_extra_style(canvas_div)\n",
       "    this.root.append(canvas_div);\n",
       "\n",
       "    var canvas = $('<canvas/>');\n",
       "    canvas.addClass('mpl-canvas');\n",
       "    canvas.attr('style', \"left: 0; top: 0; z-index: 0; outline: 0\")\n",
       "\n",
       "    this.canvas = canvas[0];\n",
       "    this.context = canvas[0].getContext(\"2d\");\n",
       "\n",
       "    var backingStore = this.context.backingStorePixelRatio ||\n",
       "\tthis.context.webkitBackingStorePixelRatio ||\n",
       "\tthis.context.mozBackingStorePixelRatio ||\n",
       "\tthis.context.msBackingStorePixelRatio ||\n",
       "\tthis.context.oBackingStorePixelRatio ||\n",
       "\tthis.context.backingStorePixelRatio || 1;\n",
       "\n",
       "    mpl.ratio = (window.devicePixelRatio || 1) / backingStore;\n",
       "\n",
       "    var rubberband = $('<canvas/>');\n",
       "    rubberband.attr('style', \"position: absolute; left: 0; top: 0; z-index: 1;\")\n",
       "\n",
       "    var pass_mouse_events = true;\n",
       "\n",
       "    canvas_div.resizable({\n",
       "        start: function(event, ui) {\n",
       "            pass_mouse_events = false;\n",
       "        },\n",
       "        resize: function(event, ui) {\n",
       "            fig.request_resize(ui.size.width, ui.size.height);\n",
       "        },\n",
       "        stop: function(event, ui) {\n",
       "            pass_mouse_events = true;\n",
       "            fig.request_resize(ui.size.width, ui.size.height);\n",
       "        },\n",
       "    });\n",
       "\n",
       "    function mouse_event_fn(event) {\n",
       "        if (pass_mouse_events)\n",
       "            return fig.mouse_event(event, event['data']);\n",
       "    }\n",
       "\n",
       "    rubberband.mousedown('button_press', mouse_event_fn);\n",
       "    rubberband.mouseup('button_release', mouse_event_fn);\n",
       "    // Throttle sequential mouse events to 1 every 20ms.\n",
       "    rubberband.mousemove('motion_notify', mouse_event_fn);\n",
       "\n",
       "    rubberband.mouseenter('figure_enter', mouse_event_fn);\n",
       "    rubberband.mouseleave('figure_leave', mouse_event_fn);\n",
       "\n",
       "    canvas_div.on(\"wheel\", function (event) {\n",
       "        event = event.originalEvent;\n",
       "        event['data'] = 'scroll'\n",
       "        if (event.deltaY < 0) {\n",
       "            event.step = 1;\n",
       "        } else {\n",
       "            event.step = -1;\n",
       "        }\n",
       "        mouse_event_fn(event);\n",
       "    });\n",
       "\n",
       "    canvas_div.append(canvas);\n",
       "    canvas_div.append(rubberband);\n",
       "\n",
       "    this.rubberband = rubberband;\n",
       "    this.rubberband_canvas = rubberband[0];\n",
       "    this.rubberband_context = rubberband[0].getContext(\"2d\");\n",
       "    this.rubberband_context.strokeStyle = \"#000000\";\n",
       "\n",
       "    this._resize_canvas = function(width, height) {\n",
       "        // Keep the size of the canvas, canvas container, and rubber band\n",
       "        // canvas in synch.\n",
       "        canvas_div.css('width', width)\n",
       "        canvas_div.css('height', height)\n",
       "\n",
       "        canvas.attr('width', width * mpl.ratio);\n",
       "        canvas.attr('height', height * mpl.ratio);\n",
       "        canvas.attr('style', 'width: ' + width + 'px; height: ' + height + 'px;');\n",
       "\n",
       "        rubberband.attr('width', width);\n",
       "        rubberband.attr('height', height);\n",
       "    }\n",
       "\n",
       "    // Set the figure to an initial 600x600px, this will subsequently be updated\n",
       "    // upon first draw.\n",
       "    this._resize_canvas(600, 600);\n",
       "\n",
       "    // Disable right mouse context menu.\n",
       "    $(this.rubberband_canvas).bind(\"contextmenu\",function(e){\n",
       "        return false;\n",
       "    });\n",
       "\n",
       "    function set_focus () {\n",
       "        canvas.focus();\n",
       "        canvas_div.focus();\n",
       "    }\n",
       "\n",
       "    window.setTimeout(set_focus, 100);\n",
       "}\n",
       "\n",
       "mpl.figure.prototype._init_toolbar = function() {\n",
       "    var fig = this;\n",
       "\n",
       "    var nav_element = $('<div/>')\n",
       "    nav_element.attr('style', 'width: 100%');\n",
       "    this.root.append(nav_element);\n",
       "\n",
       "    // Define a callback function for later on.\n",
       "    function toolbar_event(event) {\n",
       "        return fig.toolbar_button_onclick(event['data']);\n",
       "    }\n",
       "    function toolbar_mouse_event(event) {\n",
       "        return fig.toolbar_button_onmouseover(event['data']);\n",
       "    }\n",
       "\n",
       "    for(var toolbar_ind in mpl.toolbar_items) {\n",
       "        var name = mpl.toolbar_items[toolbar_ind][0];\n",
       "        var tooltip = mpl.toolbar_items[toolbar_ind][1];\n",
       "        var image = mpl.toolbar_items[toolbar_ind][2];\n",
       "        var method_name = mpl.toolbar_items[toolbar_ind][3];\n",
       "\n",
       "        if (!name) {\n",
       "            // put a spacer in here.\n",
       "            continue;\n",
       "        }\n",
       "        var button = $('<button/>');\n",
       "        button.addClass('ui-button ui-widget ui-state-default ui-corner-all ' +\n",
       "                        'ui-button-icon-only');\n",
       "        button.attr('role', 'button');\n",
       "        button.attr('aria-disabled', 'false');\n",
       "        button.click(method_name, toolbar_event);\n",
       "        button.mouseover(tooltip, toolbar_mouse_event);\n",
       "\n",
       "        var icon_img = $('<span/>');\n",
       "        icon_img.addClass('ui-button-icon-primary ui-icon');\n",
       "        icon_img.addClass(image);\n",
       "        icon_img.addClass('ui-corner-all');\n",
       "\n",
       "        var tooltip_span = $('<span/>');\n",
       "        tooltip_span.addClass('ui-button-text');\n",
       "        tooltip_span.html(tooltip);\n",
       "\n",
       "        button.append(icon_img);\n",
       "        button.append(tooltip_span);\n",
       "\n",
       "        nav_element.append(button);\n",
       "    }\n",
       "\n",
       "    var fmt_picker_span = $('<span/>');\n",
       "\n",
       "    var fmt_picker = $('<select/>');\n",
       "    fmt_picker.addClass('mpl-toolbar-option ui-widget ui-widget-content');\n",
       "    fmt_picker_span.append(fmt_picker);\n",
       "    nav_element.append(fmt_picker_span);\n",
       "    this.format_dropdown = fmt_picker[0];\n",
       "\n",
       "    for (var ind in mpl.extensions) {\n",
       "        var fmt = mpl.extensions[ind];\n",
       "        var option = $(\n",
       "            '<option/>', {selected: fmt === mpl.default_extension}).html(fmt);\n",
       "        fmt_picker.append(option)\n",
       "    }\n",
       "\n",
       "    // Add hover states to the ui-buttons\n",
       "    $( \".ui-button\" ).hover(\n",
       "        function() { $(this).addClass(\"ui-state-hover\");},\n",
       "        function() { $(this).removeClass(\"ui-state-hover\");}\n",
       "    );\n",
       "\n",
       "    var status_bar = $('<span class=\"mpl-message\"/>');\n",
       "    nav_element.append(status_bar);\n",
       "    this.message = status_bar[0];\n",
       "}\n",
       "\n",
       "mpl.figure.prototype.request_resize = function(x_pixels, y_pixels) {\n",
       "    // Request matplotlib to resize the figure. Matplotlib will then trigger a resize in the client,\n",
       "    // which will in turn request a refresh of the image.\n",
       "    this.send_message('resize', {'width': x_pixels, 'height': y_pixels});\n",
       "}\n",
       "\n",
       "mpl.figure.prototype.send_message = function(type, properties) {\n",
       "    properties['type'] = type;\n",
       "    properties['figure_id'] = this.id;\n",
       "    this.ws.send(JSON.stringify(properties));\n",
       "}\n",
       "\n",
       "mpl.figure.prototype.send_draw_message = function() {\n",
       "    if (!this.waiting) {\n",
       "        this.waiting = true;\n",
       "        this.ws.send(JSON.stringify({type: \"draw\", figure_id: this.id}));\n",
       "    }\n",
       "}\n",
       "\n",
       "\n",
       "mpl.figure.prototype.handle_save = function(fig, msg) {\n",
       "    var format_dropdown = fig.format_dropdown;\n",
       "    var format = format_dropdown.options[format_dropdown.selectedIndex].value;\n",
       "    fig.ondownload(fig, format);\n",
       "}\n",
       "\n",
       "\n",
       "mpl.figure.prototype.handle_resize = function(fig, msg) {\n",
       "    var size = msg['size'];\n",
       "    if (size[0] != fig.canvas.width || size[1] != fig.canvas.height) {\n",
       "        fig._resize_canvas(size[0], size[1]);\n",
       "        fig.send_message(\"refresh\", {});\n",
       "    };\n",
       "}\n",
       "\n",
       "mpl.figure.prototype.handle_rubberband = function(fig, msg) {\n",
       "    var x0 = msg['x0'] / mpl.ratio;\n",
       "    var y0 = (fig.canvas.height - msg['y0']) / mpl.ratio;\n",
       "    var x1 = msg['x1'] / mpl.ratio;\n",
       "    var y1 = (fig.canvas.height - msg['y1']) / mpl.ratio;\n",
       "    x0 = Math.floor(x0) + 0.5;\n",
       "    y0 = Math.floor(y0) + 0.5;\n",
       "    x1 = Math.floor(x1) + 0.5;\n",
       "    y1 = Math.floor(y1) + 0.5;\n",
       "    var min_x = Math.min(x0, x1);\n",
       "    var min_y = Math.min(y0, y1);\n",
       "    var width = Math.abs(x1 - x0);\n",
       "    var height = Math.abs(y1 - y0);\n",
       "\n",
       "    fig.rubberband_context.clearRect(\n",
       "        0, 0, fig.canvas.width, fig.canvas.height);\n",
       "\n",
       "    fig.rubberband_context.strokeRect(min_x, min_y, width, height);\n",
       "}\n",
       "\n",
       "mpl.figure.prototype.handle_figure_label = function(fig, msg) {\n",
       "    // Updates the figure title.\n",
       "    fig.header.textContent = msg['label'];\n",
       "}\n",
       "\n",
       "mpl.figure.prototype.handle_cursor = function(fig, msg) {\n",
       "    var cursor = msg['cursor'];\n",
       "    switch(cursor)\n",
       "    {\n",
       "    case 0:\n",
       "        cursor = 'pointer';\n",
       "        break;\n",
       "    case 1:\n",
       "        cursor = 'default';\n",
       "        break;\n",
       "    case 2:\n",
       "        cursor = 'crosshair';\n",
       "        break;\n",
       "    case 3:\n",
       "        cursor = 'move';\n",
       "        break;\n",
       "    }\n",
       "    fig.rubberband_canvas.style.cursor = cursor;\n",
       "}\n",
       "\n",
       "mpl.figure.prototype.handle_message = function(fig, msg) {\n",
       "    fig.message.textContent = msg['message'];\n",
       "}\n",
       "\n",
       "mpl.figure.prototype.handle_draw = function(fig, msg) {\n",
       "    // Request the server to send over a new figure.\n",
       "    fig.send_draw_message();\n",
       "}\n",
       "\n",
       "mpl.figure.prototype.handle_image_mode = function(fig, msg) {\n",
       "    fig.image_mode = msg['mode'];\n",
       "}\n",
       "\n",
       "mpl.figure.prototype.updated_canvas_event = function() {\n",
       "    // Called whenever the canvas gets updated.\n",
       "    this.send_message(\"ack\", {});\n",
       "}\n",
       "\n",
       "// A function to construct a web socket function for onmessage handling.\n",
       "// Called in the figure constructor.\n",
       "mpl.figure.prototype._make_on_message_function = function(fig) {\n",
       "    return function socket_on_message(evt) {\n",
       "        if (evt.data instanceof Blob) {\n",
       "            /* FIXME: We get \"Resource interpreted as Image but\n",
       "             * transferred with MIME type text/plain:\" errors on\n",
       "             * Chrome.  But how to set the MIME type?  It doesn't seem\n",
       "             * to be part of the websocket stream */\n",
       "            evt.data.type = \"image/png\";\n",
       "\n",
       "            /* Free the memory for the previous frames */\n",
       "            if (fig.imageObj.src) {\n",
       "                (window.URL || window.webkitURL).revokeObjectURL(\n",
       "                    fig.imageObj.src);\n",
       "            }\n",
       "\n",
       "            fig.imageObj.src = (window.URL || window.webkitURL).createObjectURL(\n",
       "                evt.data);\n",
       "            fig.updated_canvas_event();\n",
       "            fig.waiting = false;\n",
       "            return;\n",
       "        }\n",
       "        else if (typeof evt.data === 'string' && evt.data.slice(0, 21) == \"data:image/png;base64\") {\n",
       "            fig.imageObj.src = evt.data;\n",
       "            fig.updated_canvas_event();\n",
       "            fig.waiting = false;\n",
       "            return;\n",
       "        }\n",
       "\n",
       "        var msg = JSON.parse(evt.data);\n",
       "        var msg_type = msg['type'];\n",
       "\n",
       "        // Call the  \"handle_{type}\" callback, which takes\n",
       "        // the figure and JSON message as its only arguments.\n",
       "        try {\n",
       "            var callback = fig[\"handle_\" + msg_type];\n",
       "        } catch (e) {\n",
       "            console.log(\"No handler for the '\" + msg_type + \"' message type: \", msg);\n",
       "            return;\n",
       "        }\n",
       "\n",
       "        if (callback) {\n",
       "            try {\n",
       "                // console.log(\"Handling '\" + msg_type + \"' message: \", msg);\n",
       "                callback(fig, msg);\n",
       "            } catch (e) {\n",
       "                console.log(\"Exception inside the 'handler_\" + msg_type + \"' callback:\", e, e.stack, msg);\n",
       "            }\n",
       "        }\n",
       "    };\n",
       "}\n",
       "\n",
       "// from http://stackoverflow.com/questions/1114465/getting-mouse-location-in-canvas\n",
       "mpl.findpos = function(e) {\n",
       "    //this section is from http://www.quirksmode.org/js/events_properties.html\n",
       "    var targ;\n",
       "    if (!e)\n",
       "        e = window.event;\n",
       "    if (e.target)\n",
       "        targ = e.target;\n",
       "    else if (e.srcElement)\n",
       "        targ = e.srcElement;\n",
       "    if (targ.nodeType == 3) // defeat Safari bug\n",
       "        targ = targ.parentNode;\n",
       "\n",
       "    // jQuery normalizes the pageX and pageY\n",
       "    // pageX,Y are the mouse positions relative to the document\n",
       "    // offset() returns the position of the element relative to the document\n",
       "    var x = e.pageX - $(targ).offset().left;\n",
       "    var y = e.pageY - $(targ).offset().top;\n",
       "\n",
       "    return {\"x\": x, \"y\": y};\n",
       "};\n",
       "\n",
       "/*\n",
       " * return a copy of an object with only non-object keys\n",
       " * we need this to avoid circular references\n",
       " * http://stackoverflow.com/a/24161582/3208463\n",
       " */\n",
       "function simpleKeys (original) {\n",
       "  return Object.keys(original).reduce(function (obj, key) {\n",
       "    if (typeof original[key] !== 'object')\n",
       "        obj[key] = original[key]\n",
       "    return obj;\n",
       "  }, {});\n",
       "}\n",
       "\n",
       "mpl.figure.prototype.mouse_event = function(event, name) {\n",
       "    var canvas_pos = mpl.findpos(event)\n",
       "\n",
       "    if (name === 'button_press')\n",
       "    {\n",
       "        this.canvas.focus();\n",
       "        this.canvas_div.focus();\n",
       "    }\n",
       "\n",
       "    var x = canvas_pos.x * mpl.ratio;\n",
       "    var y = canvas_pos.y * mpl.ratio;\n",
       "\n",
       "    this.send_message(name, {x: x, y: y, button: event.button,\n",
       "                             step: event.step,\n",
       "                             guiEvent: simpleKeys(event)});\n",
       "\n",
       "    /* This prevents the web browser from automatically changing to\n",
       "     * the text insertion cursor when the button is pressed.  We want\n",
       "     * to control all of the cursor setting manually through the\n",
       "     * 'cursor' event from matplotlib */\n",
       "    event.preventDefault();\n",
       "    return false;\n",
       "}\n",
       "\n",
       "mpl.figure.prototype._key_event_extra = function(event, name) {\n",
       "    // Handle any extra behaviour associated with a key event\n",
       "}\n",
       "\n",
       "mpl.figure.prototype.key_event = function(event, name) {\n",
       "\n",
       "    // Prevent repeat events\n",
       "    if (name == 'key_press')\n",
       "    {\n",
       "        if (event.which === this._key)\n",
       "            return;\n",
       "        else\n",
       "            this._key = event.which;\n",
       "    }\n",
       "    if (name == 'key_release')\n",
       "        this._key = null;\n",
       "\n",
       "    var value = '';\n",
       "    if (event.ctrlKey && event.which != 17)\n",
       "        value += \"ctrl+\";\n",
       "    if (event.altKey && event.which != 18)\n",
       "        value += \"alt+\";\n",
       "    if (event.shiftKey && event.which != 16)\n",
       "        value += \"shift+\";\n",
       "\n",
       "    value += 'k';\n",
       "    value += event.which.toString();\n",
       "\n",
       "    this._key_event_extra(event, name);\n",
       "\n",
       "    this.send_message(name, {key: value,\n",
       "                             guiEvent: simpleKeys(event)});\n",
       "    return false;\n",
       "}\n",
       "\n",
       "mpl.figure.prototype.toolbar_button_onclick = function(name) {\n",
       "    if (name == 'download') {\n",
       "        this.handle_save(this, null);\n",
       "    } else {\n",
       "        this.send_message(\"toolbar_button\", {name: name});\n",
       "    }\n",
       "};\n",
       "\n",
       "mpl.figure.prototype.toolbar_button_onmouseover = function(tooltip) {\n",
       "    this.message.textContent = tooltip;\n",
       "};\n",
       "mpl.toolbar_items = [[\"Home\", \"Reset original view\", \"fa fa-home icon-home\", \"home\"], [\"Back\", \"Back to  previous view\", \"fa fa-arrow-left icon-arrow-left\", \"back\"], [\"Forward\", \"Forward to next view\", \"fa fa-arrow-right icon-arrow-right\", \"forward\"], [\"\", \"\", \"\", \"\"], [\"Pan\", \"Pan axes with left mouse, zoom with right\", \"fa fa-arrows icon-move\", \"pan\"], [\"Zoom\", \"Zoom to rectangle\", \"fa fa-square-o icon-check-empty\", \"zoom\"], [\"\", \"\", \"\", \"\"], [\"Download\", \"Download plot\", \"fa fa-floppy-o icon-save\", \"download\"]];\n",
       "\n",
       "mpl.extensions = [\"eps\", \"jpeg\", \"pdf\", \"png\", \"ps\", \"raw\", \"svg\", \"tif\"];\n",
       "\n",
       "mpl.default_extension = \"png\";var comm_websocket_adapter = function(comm) {\n",
       "    // Create a \"websocket\"-like object which calls the given IPython comm\n",
       "    // object with the appropriate methods. Currently this is a non binary\n",
       "    // socket, so there is still some room for performance tuning.\n",
       "    var ws = {};\n",
       "\n",
       "    ws.close = function() {\n",
       "        comm.close()\n",
       "    };\n",
       "    ws.send = function(m) {\n",
       "        //console.log('sending', m);\n",
       "        comm.send(m);\n",
       "    };\n",
       "    // Register the callback with on_msg.\n",
       "    comm.on_msg(function(msg) {\n",
       "        //console.log('receiving', msg['content']['data'], msg);\n",
       "        // Pass the mpl event to the overriden (by mpl) onmessage function.\n",
       "        ws.onmessage(msg['content']['data'])\n",
       "    });\n",
       "    return ws;\n",
       "}\n",
       "\n",
       "mpl.mpl_figure_comm = function(comm, msg) {\n",
       "    // This is the function which gets called when the mpl process\n",
       "    // starts-up an IPython Comm through the \"matplotlib\" channel.\n",
       "\n",
       "    var id = msg.content.data.id;\n",
       "    // Get hold of the div created by the display call when the Comm\n",
       "    // socket was opened in Python.\n",
       "    var element = $(\"#\" + id);\n",
       "    var ws_proxy = comm_websocket_adapter(comm)\n",
       "\n",
       "    function ondownload(figure, format) {\n",
       "        window.open(figure.imageObj.src);\n",
       "    }\n",
       "\n",
       "    var fig = new mpl.figure(id, ws_proxy,\n",
       "                           ondownload,\n",
       "                           element.get(0));\n",
       "\n",
       "    // Call onopen now - mpl needs it, as it is assuming we've passed it a real\n",
       "    // web socket which is closed, not our websocket->open comm proxy.\n",
       "    ws_proxy.onopen();\n",
       "\n",
       "    fig.parent_element = element.get(0);\n",
       "    fig.cell_info = mpl.find_output_cell(\"<div id='\" + id + \"'></div>\");\n",
       "    if (!fig.cell_info) {\n",
       "        console.error(\"Failed to find cell for figure\", id, fig);\n",
       "        return;\n",
       "    }\n",
       "\n",
       "    var output_index = fig.cell_info[2]\n",
       "    var cell = fig.cell_info[0];\n",
       "\n",
       "};\n",
       "\n",
       "mpl.figure.prototype.handle_close = function(fig, msg) {\n",
       "    var width = fig.canvas.width/mpl.ratio\n",
       "    fig.root.unbind('remove')\n",
       "\n",
       "    // Update the output cell to use the data from the current canvas.\n",
       "    fig.push_to_output();\n",
       "    var dataURL = fig.canvas.toDataURL();\n",
       "    // Re-enable the keyboard manager in IPython - without this line, in FF,\n",
       "    // the notebook keyboard shortcuts fail.\n",
       "    IPython.keyboard_manager.enable()\n",
       "    $(fig.parent_element).html('<img src=\"' + dataURL + '\" width=\"' + width + '\">');\n",
       "    fig.close_ws(fig, msg);\n",
       "}\n",
       "\n",
       "mpl.figure.prototype.close_ws = function(fig, msg){\n",
       "    fig.send_message('closing', msg);\n",
       "    // fig.ws.close()\n",
       "}\n",
       "\n",
       "mpl.figure.prototype.push_to_output = function(remove_interactive) {\n",
       "    // Turn the data on the canvas into data in the output cell.\n",
       "    var width = this.canvas.width/mpl.ratio\n",
       "    var dataURL = this.canvas.toDataURL();\n",
       "    this.cell_info[1]['text/html'] = '<img src=\"' + dataURL + '\" width=\"' + width + '\">';\n",
       "}\n",
       "\n",
       "mpl.figure.prototype.updated_canvas_event = function() {\n",
       "    // Tell IPython that the notebook contents must change.\n",
       "    IPython.notebook.set_dirty(true);\n",
       "    this.send_message(\"ack\", {});\n",
       "    var fig = this;\n",
       "    // Wait a second, then push the new image to the DOM so\n",
       "    // that it is saved nicely (might be nice to debounce this).\n",
       "    setTimeout(function () { fig.push_to_output() }, 1000);\n",
       "}\n",
       "\n",
       "mpl.figure.prototype._init_toolbar = function() {\n",
       "    var fig = this;\n",
       "\n",
       "    var nav_element = $('<div/>')\n",
       "    nav_element.attr('style', 'width: 100%');\n",
       "    this.root.append(nav_element);\n",
       "\n",
       "    // Define a callback function for later on.\n",
       "    function toolbar_event(event) {\n",
       "        return fig.toolbar_button_onclick(event['data']);\n",
       "    }\n",
       "    function toolbar_mouse_event(event) {\n",
       "        return fig.toolbar_button_onmouseover(event['data']);\n",
       "    }\n",
       "\n",
       "    for(var toolbar_ind in mpl.toolbar_items){\n",
       "        var name = mpl.toolbar_items[toolbar_ind][0];\n",
       "        var tooltip = mpl.toolbar_items[toolbar_ind][1];\n",
       "        var image = mpl.toolbar_items[toolbar_ind][2];\n",
       "        var method_name = mpl.toolbar_items[toolbar_ind][3];\n",
       "\n",
       "        if (!name) { continue; };\n",
       "\n",
       "        var button = $('<button class=\"btn btn-default\" href=\"#\" title=\"' + name + '\"><i class=\"fa ' + image + ' fa-lg\"></i></button>');\n",
       "        button.click(method_name, toolbar_event);\n",
       "        button.mouseover(tooltip, toolbar_mouse_event);\n",
       "        nav_element.append(button);\n",
       "    }\n",
       "\n",
       "    // Add the status bar.\n",
       "    var status_bar = $('<span class=\"mpl-message\" style=\"text-align:right; float: right;\"/>');\n",
       "    nav_element.append(status_bar);\n",
       "    this.message = status_bar[0];\n",
       "\n",
       "    // Add the close button to the window.\n",
       "    var buttongrp = $('<div class=\"btn-group inline pull-right\"></div>');\n",
       "    var button = $('<button class=\"btn btn-mini btn-primary\" href=\"#\" title=\"Stop Interaction\"><i class=\"fa fa-power-off icon-remove icon-large\"></i></button>');\n",
       "    button.click(function (evt) { fig.handle_close(fig, {}); } );\n",
       "    button.mouseover('Stop Interaction', toolbar_mouse_event);\n",
       "    buttongrp.append(button);\n",
       "    var titlebar = this.root.find($('.ui-dialog-titlebar'));\n",
       "    titlebar.prepend(buttongrp);\n",
       "}\n",
       "\n",
       "mpl.figure.prototype._root_extra_style = function(el){\n",
       "    var fig = this\n",
       "    el.on(\"remove\", function(){\n",
       "\tfig.close_ws(fig, {});\n",
       "    });\n",
       "}\n",
       "\n",
       "mpl.figure.prototype._canvas_extra_style = function(el){\n",
       "    // this is important to make the div 'focusable\n",
       "    el.attr('tabindex', 0)\n",
       "    // reach out to IPython and tell the keyboard manager to turn it's self\n",
       "    // off when our div gets focus\n",
       "\n",
       "    // location in version 3\n",
       "    if (IPython.notebook.keyboard_manager) {\n",
       "        IPython.notebook.keyboard_manager.register_events(el);\n",
       "    }\n",
       "    else {\n",
       "        // location in version 2\n",
       "        IPython.keyboard_manager.register_events(el);\n",
       "    }\n",
       "\n",
       "}\n",
       "\n",
       "mpl.figure.prototype._key_event_extra = function(event, name) {\n",
       "    var manager = IPython.notebook.keyboard_manager;\n",
       "    if (!manager)\n",
       "        manager = IPython.keyboard_manager;\n",
       "\n",
       "    // Check for shift+enter\n",
       "    if (event.shiftKey && event.which == 13) {\n",
       "        this.canvas_div.blur();\n",
       "        // select the cell after this one\n",
       "        var index = IPython.notebook.find_cell_index(this.cell_info[0]);\n",
       "        IPython.notebook.select(index + 1);\n",
       "    }\n",
       "}\n",
       "\n",
       "mpl.figure.prototype.handle_save = function(fig, msg) {\n",
       "    fig.ondownload(fig, null);\n",
       "}\n",
       "\n",
       "\n",
       "mpl.find_output_cell = function(html_output) {\n",
       "    // Return the cell and output element which can be found *uniquely* in the notebook.\n",
       "    // Note - this is a bit hacky, but it is done because the \"notebook_saving.Notebook\"\n",
       "    // IPython event is triggered only after the cells have been serialised, which for\n",
       "    // our purposes (turning an active figure into a static one), is too late.\n",
       "    var cells = IPython.notebook.get_cells();\n",
       "    var ncells = cells.length;\n",
       "    for (var i=0; i<ncells; i++) {\n",
       "        var cell = cells[i];\n",
       "        if (cell.cell_type === 'code'){\n",
       "            for (var j=0; j<cell.output_area.outputs.length; j++) {\n",
       "                var data = cell.output_area.outputs[j];\n",
       "                if (data.data) {\n",
       "                    // IPython >= 3 moved mimebundle to data attribute of output\n",
       "                    data = data.data;\n",
       "                }\n",
       "                if (data['text/html'] == html_output) {\n",
       "                    return [cell, data, j];\n",
       "                }\n",
       "            }\n",
       "        }\n",
       "    }\n",
       "}\n",
       "\n",
       "// Register the function which deals with the matplotlib target/channel.\n",
       "// The kernel may be null if the page has been refreshed.\n",
       "if (IPython.notebook.kernel != null) {\n",
       "    IPython.notebook.kernel.comm_manager.register_target('matplotlib', mpl.mpl_figure_comm);\n",
       "}\n"
      ],
      "text/plain": [
       "<IPython.core.display.Javascript object>"
      ]
     },
     "metadata": {},
     "output_type": "display_data"
    },
    {
     "data": {
      "text/html": [
       "<img src=\"data:image/png;base64,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\" width=\"640\">"
      ],
      "text/plain": [
       "<IPython.core.display.HTML object>"
      ]
     },
     "metadata": {},
     "output_type": "display_data"
    },
    {
     "data": {
      "text/plain": [
       "[<matplotlib.lines.Line2D at 0x7f310e5887b8>]"
      ]
     },
     "execution_count": 4,
     "metadata": {},
     "output_type": "execute_result"
    }
   ],
   "source": [
    "plt.figure()\n",
    "# subplot with 1 row, 2 columns, and current axis is 1st subplot axes\n",
    "plt.subplot(1, 2, 1)\n",
    "\n",
    "linear_data = np.array([1,2,3,4,5,6,7,8])\n",
    "\n",
    "plt.plot(linear_data, '-*')"
   ]
  },
  {
   "cell_type": "code",
   "execution_count": 5,
   "metadata": {
    "collapsed": false
   },
   "outputs": [
    {
     "data": {
      "text/plain": [
       "[<matplotlib.lines.Line2D at 0x7f3109ed18d0>]"
      ]
     },
     "execution_count": 5,
     "metadata": {},
     "output_type": "execute_result"
    }
   ],
   "source": [
    "exponential_data = linear_data**2 \n",
    "cubic_data = linear_data**3\n",
    "\n",
    "# subplot with 1 row, 2 columns, and current axis is 2nd subplot axes\n",
    "plt.subplot(1, 2, 2)\n",
    "plt.plot(exponential_data, '-o')\n",
    "\n",
    "#\n",
    "plt.subplot(1,2,3)\n",
    "plt.plot(cubic_data, '-')"
   ]
  },
  {
   "cell_type": "code",
   "execution_count": 6,
   "metadata": {
    "collapsed": false
   },
   "outputs": [
    {
     "data": {
      "text/plain": [
       "[<matplotlib.lines.Line2D at 0x7f310f36cf28>]"
      ]
     },
     "execution_count": 6,
     "metadata": {},
     "output_type": "execute_result"
    }
   ],
   "source": [
    "# plot exponential data on 1st subplot axes\n",
    "plt.subplot(1, 2, 1)\n",
    "plt.plot(exponential_data, '-x')"
   ]
  },
  {
   "cell_type": "code",
   "execution_count": null,
   "metadata": {
    "collapsed": false
   },
   "outputs": [],
   "source": [
    "plt.figure()\n",
    "ax1 = plt.subplot(1, 2, 1)\n",
    "plt.plot(linear_data, '-o')\n",
    "# pass sharey=ax1 to ensure the two subplots share the same y axis\n",
    "ax2 = plt.subplot(1, 2, 2, sharey=ax1)\n",
    "plt.plot(exponential_data, '-x')"
   ]
  },
  {
   "cell_type": "code",
   "execution_count": null,
   "metadata": {
    "collapsed": false
   },
   "outputs": [],
   "source": [
    "plt.figure()\n",
    "# the right hand side is equivalent shorthand syntax\n",
    "plt.subplot(1,2,1) == plt.subplot(121)"
   ]
  },
  {
   "cell_type": "code",
   "execution_count": null,
   "metadata": {
    "collapsed": false
   },
   "outputs": [],
   "source": [
    "# create a 3x3 grid of subplots\n",
    "fig, ((ax1,ax2,ax3), (ax4,ax5,ax6), (ax7,ax8,ax9)) = plt.subplots(3, 3, sharex=True, sharey=True)\n",
    "# plot the linear_data on the 5th subplot axes \n",
    "ax5.plot(linear_data, '-')"
   ]
  },
  {
   "cell_type": "code",
   "execution_count": null,
   "metadata": {
    "collapsed": false
   },
   "outputs": [],
   "source": [
    "# set inside tick labels to visible\n",
    "for ax in plt.gcf().get_axes():\n",
    "    for label in ax.get_xticklabels() + ax.get_yticklabels():\n",
    "        label.set_visible(True)"
   ]
  },
  {
   "cell_type": "code",
   "execution_count": null,
   "metadata": {
    "collapsed": true
   },
   "outputs": [],
   "source": [
    "# necessary on some systems to update the plot\n",
    "plt.gcf().canvas.draw()"
   ]
  },
  {
   "cell_type": "markdown",
   "metadata": {},
   "source": [
    "# Histograms"
   ]
  },
  {
   "cell_type": "code",
   "execution_count": null,
   "metadata": {
    "collapsed": false
   },
   "outputs": [],
   "source": [
    "# create 2x2 grid of axis subplots\n",
    "fig, ((ax1, ax2), (ax3, ax4)) = plt.subplots(2, 2, sharex=True)\n",
    "axs = [ax1,ax2,ax3,ax4]\n",
    "\n",
    "# draw n = 10, 100, 1000, and 10000 samples from the normal distribution and plot corresponding histograms\n",
    "for n in range(0,len(axs)):\n",
    "    sample_size = 10**(n+1)\n",
    "    sample = np.random.normal(loc=0.0, scale=1.0, size=sample_size)\n",
    "    axs[n].hist(sample)\n",
    "    axs[n].set_title('n={}'.format(sample_size))"
   ]
  },
  {
   "cell_type": "code",
   "execution_count": null,
   "metadata": {
    "collapsed": false
   },
   "outputs": [],
   "source": [
    "# repeat with number of bins set to 100\n",
    "fig, ((ax1, ax2), (ax3, ax4)) = plt.subplots(2, 2, sharex=True)\n",
    "axs = [ax1,ax2,ax3,ax4]\n",
    "\n",
    "for n in range(0,len(axs)):\n",
    "    sample_size = 10**(n+1)\n",
    "    sample = np.random.normal(loc=0.0, scale=1.0, size=sample_size)\n",
    "    axs[n].hist(sample, bins=100)\n",
    "    axs[n].set_title('n={}'.format(sample_size))"
   ]
  },
  {
   "cell_type": "code",
   "execution_count": null,
   "metadata": {
    "collapsed": false
   },
   "outputs": [],
   "source": [
    "plt.figure()\n",
    "Y = np.random.normal(loc=0.0, scale=1.0, size=10000)\n",
    "X = np.random.random(size=10000)\n",
    "plt.scatter(X,Y)"
   ]
  },
  {
   "cell_type": "code",
   "execution_count": null,
   "metadata": {
    "collapsed": false
   },
   "outputs": [],
   "source": [
    "# use gridspec to partition the figure into subplots\n",
    "import matplotlib.gridspec as gridspec\n",
    "\n",
    "plt.figure()\n",
    "gspec = gridspec.GridSpec(3, 3)\n",
    "\n",
    "top_histogram = plt.subplot(gspec[0, 1:])\n",
    "side_histogram = plt.subplot(gspec[1:, 0])\n",
    "lower_right = plt.subplot(gspec[1:, 1:])"
   ]
  },
  {
   "cell_type": "code",
   "execution_count": null,
   "metadata": {
    "collapsed": false
   },
   "outputs": [],
   "source": [
    "Y = np.random.normal(loc=0.0, scale=1.0, size=10000)\n",
    "X = np.random.random(size=10000)\n",
    "lower_right.scatter(X, Y)\n",
    "top_histogram.hist(X, bins=100)\n",
    "s = side_histogram.hist(Y, bins=100, orientation='horizontal')"
   ]
  },
  {
   "cell_type": "code",
   "execution_count": null,
   "metadata": {
    "collapsed": true
   },
   "outputs": [],
   "source": [
    "# clear the histograms and plot normed histograms\n",
    "top_histogram.clear()\n",
    "top_histogram.hist(X, bins=100, normed=True)\n",
    "side_histogram.clear()\n",
    "side_histogram.hist(Y, bins=100, orientation='horizontal', normed=True)\n",
    "# flip the side histogram's x axis\n",
    "side_histogram.invert_xaxis()"
   ]
  },
  {
   "cell_type": "code",
   "execution_count": null,
   "metadata": {
    "collapsed": false
   },
   "outputs": [],
   "source": [
    "# change axes limits\n",
    "for ax in [top_histogram, lower_right]:\n",
    "    ax.set_xlim(0, 1)\n",
    "for ax in [side_histogram, lower_right]:\n",
    "    ax.set_ylim(-5, 5)"
   ]
  },
  {
   "cell_type": "code",
   "execution_count": null,
   "metadata": {
    "collapsed": false
   },
   "outputs": [],
   "source": [
    "%%HTML\n",
    "<img src='http://educationxpress.mit.edu/sites/default/files/journal/WP1-Fig13.jpg' />"
   ]
  },
  {
   "cell_type": "markdown",
   "metadata": {},
   "source": [
    "# Box and Whisker Plots"
   ]
  },
  {
   "cell_type": "code",
   "execution_count": null,
   "metadata": {
    "collapsed": false
   },
   "outputs": [],
   "source": [
    "import pandas as pd\n",
    "normal_sample = np.random.normal(loc=0.0, scale=1.0, size=10000)\n",
    "random_sample = np.random.random(size=10000)\n",
    "gamma_sample = np.random.gamma(2, size=10000)\n",
    "\n",
    "df = pd.DataFrame({'normal': normal_sample, \n",
    "                   'random': random_sample, \n",
    "                   'gamma': gamma_sample})"
   ]
  },
  {
   "cell_type": "code",
   "execution_count": null,
   "metadata": {
    "collapsed": false
   },
   "outputs": [],
   "source": [
    "df.describe()"
   ]
  },
  {
   "cell_type": "code",
   "execution_count": null,
   "metadata": {
    "collapsed": false
   },
   "outputs": [],
   "source": [
    "plt.figure()\n",
    "# create a boxplot of the normal data, assign the output to a variable to supress output\n",
    "_ = plt.boxplot(df['normal'], whis='range')"
   ]
  },
  {
   "cell_type": "code",
   "execution_count": null,
   "metadata": {
    "collapsed": false
   },
   "outputs": [],
   "source": [
    "# clear the current figure\n",
    "plt.clf()\n",
    "# plot boxplots for all three of df's columns\n",
    "_ = plt.boxplot([ df['normal'], df['random'], df['gamma'] ], whis='range')"
   ]
  },
  {
   "cell_type": "code",
   "execution_count": null,
   "metadata": {
    "collapsed": false
   },
   "outputs": [],
   "source": [
    "plt.figure()\n",
    "_ = plt.hist(df['gamma'], bins=100)"
   ]
  },
  {
   "cell_type": "code",
   "execution_count": null,
   "metadata": {
    "collapsed": false
   },
   "outputs": [],
   "source": [
    "import mpl_toolkits.axes_grid1.inset_locator as mpl_il\n",
    "\n",
    "plt.figure()\n",
    "plt.boxplot([ df['normal'], df['random'], df['gamma'] ], whis='range')\n",
    "# overlay axis on top of another \n",
    "ax2 = mpl_il.inset_axes(plt.gca(), width='60%', height='40%', loc=2)\n",
    "ax2.hist(df['gamma'], bins=100)\n",
    "ax2.margins(x=0.5)"
   ]
  },
  {
   "cell_type": "code",
   "execution_count": null,
   "metadata": {
    "collapsed": true
   },
   "outputs": [],
   "source": [
    "# switch the y axis ticks for ax2 to the right side\n",
    "ax2.yaxis.tick_right()"
   ]
  },
  {
   "cell_type": "code",
   "execution_count": null,
   "metadata": {
    "collapsed": false
   },
   "outputs": [],
   "source": [
    "# if `whis` argument isn't passed, boxplot defaults to showing 1.5*interquartile (IQR) whiskers with outliers\n",
    "plt.figure()\n",
    "_ = plt.boxplot([ df['normal'], df['random'], df['gamma'] ] )"
   ]
  },
  {
   "cell_type": "markdown",
   "metadata": {},
   "source": [
    "# Heatmaps"
   ]
  },
  {
   "cell_type": "code",
   "execution_count": null,
   "metadata": {
    "collapsed": false
   },
   "outputs": [],
   "source": [
    "plt.figure()\n",
    "\n",
    "Y = np.random.normal(loc=0.0, scale=1.0, size=10000)\n",
    "X = np.random.random(size=10000)\n",
    "_ = plt.hist2d(X, Y, bins=25)"
   ]
  },
  {
   "cell_type": "code",
   "execution_count": null,
   "metadata": {
    "collapsed": false
   },
   "outputs": [],
   "source": [
    "plt.figure()\n",
    "_ = plt.hist2d(X, Y, bins=100)"
   ]
  },
  {
   "cell_type": "code",
   "execution_count": null,
   "metadata": {
    "collapsed": false
   },
   "outputs": [],
   "source": [
    "# add a colorbar legend\n",
    "plt.colorbar()"
   ]
  },
  {
   "cell_type": "markdown",
   "metadata": {
    "collapsed": true
   },
   "source": [
    "# Animations"
   ]
  },
  {
   "cell_type": "code",
   "execution_count": null,
   "metadata": {
    "collapsed": true
   },
   "outputs": [],
   "source": [
    "import matplotlib.animation as animation\n",
    "\n",
    "n = 100\n",
    "x = np.random.randn(n)"
   ]
  },
  {
   "cell_type": "code",
   "execution_count": null,
   "metadata": {
    "collapsed": false
   },
   "outputs": [],
   "source": [
    "# create the function that will do the plotting, where curr is the current frame\n",
    "def update(curr):\n",
    "    # check if animation is at the last frame, and if so, stop the animation a\n",
    "    if curr == n: \n",
    "        a.event_source.stop()\n",
    "    plt.cla()\n",
    "    bins = np.arange(-4, 4, 0.5)\n",
    "    plt.hist(x[:curr], bins=bins)\n",
    "    plt.axis([-4,4,0,30])\n",
    "    plt.gca().set_title('Sampling the Normal Distribution')\n",
    "    plt.gca().set_ylabel('Frequency')\n",
    "    plt.gca().set_xlabel('Value')\n",
    "    plt.annotate('n = {}'.format(curr), [3,27])"
   ]
  },
  {
   "cell_type": "code",
   "execution_count": null,
   "metadata": {
    "collapsed": false
   },
   "outputs": [],
   "source": [
    "fig = plt.figure()\n",
    "a = animation.FuncAnimation(fig, update, interval=100)"
   ]
  },
  {
   "cell_type": "markdown",
   "metadata": {},
   "source": [
    "# Interactivity"
   ]
  },
  {
   "cell_type": "code",
   "execution_count": null,
   "metadata": {
    "collapsed": false
   },
   "outputs": [],
   "source": [
    "plt.figure()\n",
    "data = np.random.rand(10)\n",
    "plt.plot(data)\n",
    "\n",
    "def onclick(event):\n",
    "    plt.cla()\n",
    "    plt.plot(data)\n",
    "    plt.gca().set_title('Event at pixels {},{} \\nand data {},{}'.format(event.x, event.y, event.xdata, event.ydata))\n",
    "\n",
    "# tell mpl_connect we want to pass a 'button_press_event' into onclick when the event is detected\n",
    "plt.gcf().canvas.mpl_connect('button_press_event', onclick)"
   ]
  },
  {
   "cell_type": "code",
   "execution_count": null,
   "metadata": {
    "collapsed": false
   },
   "outputs": [],
   "source": [
    "from random import shuffle\n",
    "origins = ['China', 'Brazil', 'India', 'USA', 'Canada', 'UK', 'Germany', 'Iraq', 'Chile', 'Mexico']\n",
    "\n",
    "shuffle(origins)\n",
    "\n",
    "df = pd.DataFrame({'height': np.random.rand(10),\n",
    "                   'weight': np.random.rand(10),\n",
    "                   'origin': origins})\n",
    "df"
   ]
  },
  {
   "cell_type": "code",
   "execution_count": null,
   "metadata": {
    "collapsed": false
   },
   "outputs": [],
   "source": [
    "plt.figure()\n",
    "# picker=5 means the mouse doesn't have to click directly on an event, but can be up to 5 pixels away\n",
    "plt.scatter(df['height'], df['weight'], picker=5)\n",
    "plt.gca().set_ylabel('Weight')\n",
    "plt.gca().set_xlabel('Height')"
   ]
  },
  {
   "cell_type": "code",
   "execution_count": null,
   "metadata": {
    "collapsed": false
   },
   "outputs": [],
   "source": [
    "def onpick(event):\n",
    "    origin = df.iloc[event.ind[0]]['origin']\n",
    "    plt.gca().set_title('Selected item came from {}'.format(origin))\n",
    "\n",
    "# tell mpl_connect we want to pass a 'pick_event' into onpick when the event is detected\n",
    "plt.gcf().canvas.mpl_connect('pick_event', onpick)"
   ]
  }
 ],
 "metadata": {
  "kernelspec": {
   "display_name": "Python 3",
   "language": "python",
   "name": "python3"
  },
  "language_info": {
   "codemirror_mode": {
    "name": "ipython",
    "version": 3
   },
   "file_extension": ".py",
   "mimetype": "text/x-python",
   "name": "python",
   "nbconvert_exporter": "python",
   "pygments_lexer": "ipython3",
   "version": "3.5.2"
  }
 },
 "nbformat": 4,
 "nbformat_minor": 1
}
